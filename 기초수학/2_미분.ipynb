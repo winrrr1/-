{
 "cells": [
  {
   "cell_type": "code",
   "execution_count": 1,
   "metadata": {},
   "outputs": [
    {
     "data": {
      "text/latex": [
       "$\\displaystyle 0$"
      ],
      "text/plain": [
       "0"
      ]
     },
     "execution_count": 1,
     "metadata": {},
     "output_type": "execute_result"
    }
   ],
   "source": [
    "# Part 2 미분\n",
    "# 7장 함수의 극한과 연속\n",
    "# 7.1 함수의 극한과 연속\n",
    "# 7.1.2 함수의 극한\n",
    "# 함수의 발산\n",
    "\n",
    "# 파이썬 sympy 라이브러리에서 Limit, S, Symbol 클래스를 호출한다.\n",
    "from sympy import Limit, S, Symbol\n",
    "\n",
    "# x 변수를 생성하고, x가 0으로 한없이 가까워질 때의 1/x에 대한 극한값을 구한다.\n",
    "x=Symbol('x')\n",
    "Limit(1/x, x, S.Infinity).doit()"
   ]
  },
  {
   "cell_type": "code",
   "execution_count": 2,
   "metadata": {},
   "outputs": [
    {
     "data": {
      "text/latex": [
       "$\\displaystyle \\infty$"
      ],
      "text/plain": [
       "oo"
      ]
     },
     "execution_count": 2,
     "metadata": {},
     "output_type": "execute_result"
    }
   ],
   "source": [
    "Limit(1/x, x, 0).doit()           # 우극한 값 구하기"
   ]
  },
  {
   "cell_type": "code",
   "execution_count": 3,
   "metadata": {},
   "outputs": [
    {
     "data": {
      "text/latex": [
       "$\\displaystyle -\\infty$"
      ],
      "text/plain": [
       "-oo"
      ]
     },
     "execution_count": 3,
     "metadata": {},
     "output_type": "execute_result"
    }
   ],
   "source": [
    "Limit(1/x, x, 0, dir='-').doit()  # 좌극한 값 구하기 "
   ]
  },
  {
   "cell_type": "code",
   "execution_count": 4,
   "metadata": {},
   "outputs": [
    {
     "name": "stdout",
     "output_type": "stream",
     "text": [
      "12\n"
     ]
    }
   ],
   "source": [
    "# 8장 다항함수의 미분\n",
    "# 8.1 다항함수의 미분\n",
    "# 8.1.1 평균변화율\n",
    "\n",
    "from sympy import symbols    # 파이썬 Numpy 라이브러리 호출\n",
    "def average(a,b):\n",
    "    m = max(a,b)      #a, b의 최댓값\n",
    "    n = min(a,b)      #a, b의 최솟값\n",
    "    x = symbols('x')  #기호변수 x 선언\n",
    "\n",
    "    fx = 2 * x ** 2 + 4 * x *  + x + 7 # 2x^2 + 4x + 7 함수 정의\n",
    "    fb = fx.subs(x, m)  #함수에 m 대입\n",
    "    fa = fx.subs(x, n)  #함수에 n 대입\n",
    "\n",
    "    result = (fb - fa) / (m - n)\n",
    "    return result\n",
    "print(average(0,2))"
   ]
  },
  {
   "cell_type": "code",
   "execution_count": 5,
   "metadata": {},
   "outputs": [
    {
     "name": "stdout",
     "output_type": "stream",
     "text": [
      "fx에서 x = 3 에서의 순간변화율(미분계수는)  36 입니다\n"
     ]
    }
   ],
   "source": [
    "# 8.1.2 미분계수\n",
    "\n",
    "# 파이썬 Numpy 라이브러리 호출\n",
    "from sympy import Derivative, symbols\n",
    "\n",
    "# 평균변화율을 구할 수 있는 함수 정의\n",
    "x = symbols('x')   # x를 기호 변수화\n",
    "fx = 2 * x ** 2 + 4 * x *  + x + 7\n",
    "\n",
    "# fprime라는 Derivative 클래스의 객체를 생성한 후\n",
    "# subs() 메서드를 이용하여 x=3에서의 미분계수 f′(3)을 구한다.\n",
    "fprime = Derivative(fx, x).doit()  #x에 대해서 미분\n",
    "n = fprime.subs({x: 3})\n",
    "print(\"fx에서 x = 3 에서의 순간변화율(미분계수는) \", n , \"입니다\")"
   ]
  },
  {
   "cell_type": "code",
   "execution_count": 6,
   "metadata": {},
   "outputs": [
    {
     "data": {
      "text/latex": [
       "$\\displaystyle 12 x$"
      ],
      "text/plain": [
       "12*x"
      ]
     },
     "execution_count": 6,
     "metadata": {},
     "output_type": "execute_result"
    }
   ],
   "source": [
    "# 8.1.3 도함수\n",
    "# 파이썬 SymPy 라이브러리 호출\n",
    "from sympy import Derivative, symbols\n",
    "\n",
    "# 변수 x와 함수 fx 정의\n",
    "x = symbols('x')   # x를 기호 변수화\n",
    "fx = 2 * x ** 2 + 4 * x *  + x + 7\n",
    "\n",
    "Derivative(fx, x).doit()\n"
   ]
  },
  {
   "cell_type": "code",
   "execution_count": 7,
   "metadata": {},
   "outputs": [
    {
     "data": {
      "text/latex": [
       "$\\displaystyle 4 x$"
      ],
      "text/plain": [
       "4*x"
      ]
     },
     "execution_count": 7,
     "metadata": {},
     "output_type": "execute_result"
    }
   ],
   "source": [
    "\n",
    "# 연습문제\n",
    "from sympy import Derivative, symbols\n",
    "x = symbols('x') \n",
    "fx = 2 * x ** 2 -1 \n",
    "Derivative(fx, x).doit()\n"
   ]
  },
  {
   "cell_type": "code",
   "execution_count": 8,
   "metadata": {},
   "outputs": [
    {
     "name": "stdout",
     "output_type": "stream",
     "text": [
      "6*x**2 + 6*x + 1\n"
     ]
    }
   ],
   "source": [
    "# 8.1.5 다항함수의 미분법\n",
    "\n",
    "import sympy as sym\n",
    "x = sym.Symbol('x')\n",
    "a = sym.diff((2*x**3+3*x**2+x+1),x)\n",
    "print(a)"
   ]
  }
 ],
 "metadata": {
  "kernelspec": {
   "display_name": "Python 3",
   "language": "python",
   "name": "python3"
  },
  "language_info": {
   "codemirror_mode": {
    "name": "ipython",
    "version": 3
   },
   "file_extension": ".py",
   "mimetype": "text/x-python",
   "name": "python",
   "nbconvert_exporter": "python",
   "pygments_lexer": "ipython3",
   "version": "3.6.10"
  }
 },
 "nbformat": 4,
 "nbformat_minor": 1
}
