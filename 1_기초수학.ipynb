{
 "cells": [
  {
   "cell_type": "code",
   "execution_count": 1,
   "metadata": {},
   "outputs": [
    {
     "name": "stdout",
     "output_type": "stream",
     "text": [
      "5\n"
     ]
    }
   ],
   "source": [
    "# Part1 기초 수학\n",
    "# 1장 방정식과 부등식\n",
    "# 1.1 변수와 수식\n",
    "# 1.1.1 변수\n",
    "# 변수와 상수\n",
    "\n",
    "\n",
    "# x 변수에 값 5를 저장\n",
    "x=5\n",
    "print(x)"
   ]
  },
  {
   "cell_type": "code",
   "execution_count": 2,
   "metadata": {},
   "outputs": [
    {
     "name": "stdout",
     "output_type": "stream",
     "text": [
      "1 2 3\n"
     ]
    }
   ],
   "source": [
    "# x, y, z 변수에 값 1, 2, 3을 각각 저장\n",
    "x, y, z = 1, 2, 3\n",
    "print(x, y, z)"
   ]
  },
  {
   "cell_type": "code",
   "execution_count": 3,
   "metadata": {},
   "outputs": [],
   "source": [
    "#파이썬에서의 수식\n",
    "\n",
    "a, b, c = 3, 7, 2"
   ]
  },
  {
   "cell_type": "code",
   "execution_count": 4,
   "metadata": {},
   "outputs": [
    {
     "data": {
      "text/plain": [
       "10"
      ]
     },
     "execution_count": 4,
     "metadata": {},
     "output_type": "execute_result"
    }
   ],
   "source": [
    "a+b     #3+7"
   ]
  },
  {
   "cell_type": "code",
   "execution_count": 5,
   "metadata": {},
   "outputs": [
    {
     "data": {
      "text/plain": [
       "-4"
      ]
     },
     "execution_count": 5,
     "metadata": {},
     "output_type": "execute_result"
    }
   ],
   "source": [
    "a-b     #3-7"
   ]
  },
  {
   "cell_type": "code",
   "execution_count": 6,
   "metadata": {},
   "outputs": [
    {
     "data": {
      "text/plain": [
       "21"
      ]
     },
     "execution_count": 6,
     "metadata": {},
     "output_type": "execute_result"
    }
   ],
   "source": [
    "a*b     #3*7"
   ]
  },
  {
   "cell_type": "code",
   "execution_count": 7,
   "metadata": {},
   "outputs": [
    {
     "data": {
      "text/plain": [
       "2.3333333333333335"
      ]
     },
     "execution_count": 7,
     "metadata": {},
     "output_type": "execute_result"
    }
   ],
   "source": [
    "b/a     #7/3"
   ]
  },
  {
   "cell_type": "code",
   "execution_count": 8,
   "metadata": {},
   "outputs": [
    {
     "data": {
      "text/plain": [
       "1"
      ]
     },
     "execution_count": 8,
     "metadata": {},
     "output_type": "execute_result"
    }
   ],
   "source": [
    "b%a     #7%2"
   ]
  },
  {
   "cell_type": "code",
   "execution_count": 9,
   "metadata": {},
   "outputs": [
    {
     "data": {
      "text/plain": [
       "9"
      ]
     },
     "execution_count": 9,
     "metadata": {},
     "output_type": "execute_result"
    }
   ],
   "source": [
    "a**c    #3의 제곱"
   ]
  },
  {
   "cell_type": "code",
   "execution_count": 10,
   "metadata": {},
   "outputs": [
    {
     "data": {
      "text/plain": [
       "1"
      ]
     },
     "execution_count": 10,
     "metadata": {},
     "output_type": "execute_result"
    }
   ],
   "source": [
    "a//c    #3을 2로 나눈 몫"
   ]
  },
  {
   "cell_type": "code",
   "execution_count": 11,
   "metadata": {},
   "outputs": [],
   "source": [
    "# 1.2 방정식과 부등식\n",
    "# 1.2.1 방정식\n",
    "# 일차방정식과 이차방정식\n",
    "\n",
    "\n",
    "# anaconda prompt창에서 \n",
    "# pip install numpy 실행하여 numpy 라이브러리를 설치합니다\n",
    "# pip install sympy 실행하여 sympy 라이브러리를 설치합니다"
   ]
  },
  {
   "cell_type": "code",
   "execution_count": 12,
   "metadata": {},
   "outputs": [
    {
     "data": {
      "text/plain": [
       "[3]"
      ]
     },
     "execution_count": 12,
     "metadata": {},
     "output_type": "execute_result"
    }
   ],
   "source": [
    "# sympy 라이브러리를 불러오고, 사용할 기호 변수를 선언한다.\n",
    "from sympy import Symbol, solve\n",
    "x=Symbol('x')\n",
    "\n",
    "# 방정식을 풀기 위해서는 “(방정식) = 0”으로 만들어 줘야 한다. 이를 위해 모든 식을 좌변으로 이항시켜준 후, equation으로 변수화해준다\n",
    "equation = 2 * x - 6\n",
    "\n",
    "# 방정식을 풀기 위해 sympy에 내장된 solve() 함수를 사용한다. solve() 함수를 사용하기 위해 equation을 입력해주면 방정식을 풀어서 결과를 반환한다.\n",
    "solve(equation)"
   ]
  },
  {
   "cell_type": "code",
   "execution_count": 13,
   "metadata": {},
   "outputs": [
    {
     "data": {
      "text/plain": [
       "[6]"
      ]
     },
     "execution_count": 13,
     "metadata": {},
     "output_type": "execute_result"
    }
   ],
   "source": [
    "# 일차방정식과 이차방정식의 python 연습 문제 풀이(1)\n",
    "\n",
    "from sympy import Symbol, solve\n",
    "k=Symbol('k')\n",
    "equation = k-2-4\n",
    "solve(equation)"
   ]
  },
  {
   "cell_type": "code",
   "execution_count": 14,
   "metadata": {},
   "outputs": [
    {
     "data": {
      "text/plain": [
       "[5]"
      ]
     },
     "execution_count": 14,
     "metadata": {},
     "output_type": "execute_result"
    }
   ],
   "source": [
    "# 일차방정식과 이차방정식의 python 연습문제 풀이(2)\n",
    "\n",
    "from sympy import Symbol, solve\n",
    "k=Symbol('k')\n",
    "equation = 2 * k - 10\n",
    "solve(equation)"
   ]
  },
  {
   "cell_type": "code",
   "execution_count": 15,
   "metadata": {},
   "outputs": [
    {
     "data": {
      "text/plain": [
       "[16]"
      ]
     },
     "execution_count": 15,
     "metadata": {},
     "output_type": "execute_result"
    }
   ],
   "source": [
    "# 일차방정식과 이차방정식의 python 연습문제 풀이(3)\n",
    "\n",
    "from sympy import Symbol, solve\n",
    "k=Symbol('k')\n",
    "equation = k/2 - 8\n",
    "solve(equation)"
   ]
  },
  {
   "cell_type": "code",
   "execution_count": 16,
   "metadata": {},
   "outputs": [
    {
     "data": {
      "text/plain": [
       "[{x: 1, y: -1}]"
      ]
     },
     "execution_count": 16,
     "metadata": {},
     "output_type": "execute_result"
    }
   ],
   "source": [
    "# 연립방정식\n",
    "# sympy 라이브러리를 불러오고, 사용할 기호 변수 x, y를 선언한다.\n",
    "from sympy import Symbol, solve\n",
    "x=Symbol('x')\n",
    "y=Symbol('y')\n",
    "\n",
    "# 방정식을 풀기 위해서는 “(방정식) = 0”으로 만들기 위해 모든 식을 좌변으로 이항시켜준 후, equation1과 equation2로 변수화해준다\n",
    "equation1 = 3 * x + y - 2\n",
    "equation2 = x - 2 * y - 3\n",
    "\n",
    "# 방정식을 풀기 위해 sympy에 내장된 solve() 함수를 사용한다. solve() 함수를 사용하기 위해 equation을 차례로 입력해주면 방정식을 풀어서 결과를 반환한다.\n",
    "solve((equation1, equation2), dict=True)  # dict 옵션은 해를 사전 형태로 반환한다."
   ]
  },
  {
   "cell_type": "code",
   "execution_count": 17,
   "metadata": {},
   "outputs": [
    {
     "data": {
      "text/plain": [
       "32"
      ]
     },
     "execution_count": 17,
     "metadata": {},
     "output_type": "execute_result"
    }
   ],
   "source": [
    "# 4장 지수와 제곱근\n",
    "# 4.2 거듭제곱과 거듭제곱근\n",
    "# 4.2.2 거듭제곱근\n",
    "\n",
    "# 거듭제곱의 표현은 **으로 한다.\n",
    "2**5"
   ]
  },
  {
   "cell_type": "code",
   "execution_count": 18,
   "metadata": {},
   "outputs": [
    {
     "data": {
      "text/plain": [
       "1.4142135623730951"
      ]
     },
     "execution_count": 18,
     "metadata": {},
     "output_type": "execute_result"
    }
   ],
   "source": [
    "# math.sqrt() 함수를 이용하여 제곱근을 구한다.\n",
    "import math   # math는 추가 설치없이 사용 가능합니다.\n",
    "math.sqrt(2)"
   ]
  },
  {
   "cell_type": "code",
   "execution_count": 19,
   "metadata": {},
   "outputs": [
    {
     "data": {
      "text/plain": [
       "3.0"
      ]
     },
     "execution_count": 19,
     "metadata": {},
     "output_type": "execute_result"
    }
   ],
   "source": [
    "math.sqrt(9)"
   ]
  },
  {
   "cell_type": "code",
   "execution_count": 20,
   "metadata": {},
   "outputs": [],
   "source": [
    "# 4.3 인수분해\n",
    "# 4.3.1 인수분해\n",
    "\n",
    "# 파이썬 sympy의 extend, factor, symbol을 호출하고, 기호 변수 x를 선언한다.\n",
    "from sympy import expand, factor\n",
    "from sympy import Symbol\n",
    "x = Symbol('x')"
   ]
  },
  {
   "cell_type": "code",
   "execution_count": 21,
   "metadata": {},
   "outputs": [
    {
     "data": {
      "text/latex": [
       "$\\displaystyle x^{2} + 6 x + 5$"
      ],
      "text/plain": [
       "x**2 + 6*x + 5"
      ]
     },
     "execution_count": 21,
     "metadata": {},
     "output_type": "execute_result"
    }
   ],
   "source": [
    "# extend()는 수식을 전개하는 함수로 (x + 1) x (x + 5)를 전개한다.\n",
    "expand((x + 1) * (x + 5))"
   ]
  },
  {
   "cell_type": "code",
   "execution_count": 22,
   "metadata": {},
   "outputs": [
    {
     "data": {
      "text/latex": [
       "$\\displaystyle \\left(x + 1\\right) \\left(x + 5\\right)$"
      ],
      "text/plain": [
       "(x + 1)*(x + 5)"
      ]
     },
     "execution_count": 22,
     "metadata": {},
     "output_type": "execute_result"
    }
   ],
   "source": [
    "# factor()는 인수분해하는 함수로, x2+6x+5를 인수분해한다.\n",
    "factor(x**2 + 6*x + 5)"
   ]
  },
  {
   "cell_type": "code",
   "execution_count": 23,
   "metadata": {},
   "outputs": [],
   "source": [
    "# 6장 지수함수와 로그함수\n",
    "# 6.1 지수함수\n",
    "# 6.1.1 지수함수와 그래프\n",
    "\n",
    "# 파이썬 math 라이브러리 호출\n",
    "import math"
   ]
  },
  {
   "cell_type": "code",
   "execution_count": 24,
   "metadata": {},
   "outputs": [
    {
     "name": "stdout",
     "output_type": "stream",
     "text": [
      "pow 결과: 32.0\n",
      "sqrt 결과: 1.4142135623730951\n",
      "exp 결과: 7.38905609893065\n"
     ]
    }
   ],
   "source": [
    "# 파이썬에서 제공하는 지수함수 유형별로 실행\n",
    "# 2의 5제곱\n",
    "pow=math.pow(2, 5)\n",
    "print(\"pow 결과:\", pow)\n",
    "\n",
    "# 2의 제곱근\n",
    "sqrt=math.sqrt(2)\n",
    "print(\"sqrt 결과:\", sqrt)\n",
    "\n",
    "# e의 2제곱\n",
    "exp=math.exp(2)\n",
    "print(\"exp 결과:\", exp)\n"
   ]
  },
  {
   "cell_type": "code",
   "execution_count": 25,
   "metadata": {},
   "outputs": [
    {
     "data": {
      "text/plain": [
       "0.5"
      ]
     },
     "execution_count": 25,
     "metadata": {},
     "output_type": "execute_result"
    }
   ],
   "source": [
    "# 6.2 로그함수\n",
    "# 6.2.1 로그함수와 그래프\n",
    "\n",
    "# 파이썬 math 라이브러리 호출\n",
    "import math\n",
    "\n",
    "# log 값을 얻기 위해 math 라이브러리의 log() 함수를 사용한다.\n",
    "math.log(2,4)  # y1=log42"
   ]
  },
  {
   "cell_type": "code",
   "execution_count": 26,
   "metadata": {},
   "outputs": [
    {
     "data": {
      "text/plain": [
       "2.0"
      ]
     },
     "execution_count": 26,
     "metadata": {},
     "output_type": "execute_result"
    }
   ],
   "source": [
    "math.log(4,2)  # y1=log24"
   ]
  }
 ],
 "metadata": {
  "anaconda-cloud": {},
  "kernelspec": {
   "display_name": "Python 3",
   "language": "python",
   "name": "python3"
  },
  "language_info": {
   "codemirror_mode": {
    "name": "ipython",
    "version": 3
   },
   "file_extension": ".py",
   "mimetype": "text/x-python",
   "name": "python",
   "nbconvert_exporter": "python",
   "pygments_lexer": "ipython3",
   "version": "3.7.6"
  }
 },
 "nbformat": 4,
 "nbformat_minor": 1
}
